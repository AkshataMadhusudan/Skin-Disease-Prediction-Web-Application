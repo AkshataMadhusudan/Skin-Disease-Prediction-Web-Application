{
  "nbformat": 4,
  "nbformat_minor": 0,
  "metadata": {
    "colab": {
      "name": "HAM28 Final.ipynb",
      "provenance": [],
      "collapsed_sections": [],
      "toc_visible": true,
      "include_colab_link": true
    },
    "kernelspec": {
      "name": "python3",
      "display_name": "Python 3"
    },
    "accelerator": "GPU"
  },
  "cells": [
    {
      "cell_type": "markdown",
      "metadata": {
        "id": "view-in-github",
        "colab_type": "text"
      },
      "source": [
        "<a href=\"https://colab.research.google.com/github/mittshah2/Skin-Disease-Prediction-Web-Application/blob/master/HAM28_Final.ipynb\" target=\"_parent\"><img src=\"https://colab.research.google.com/assets/colab-badge.svg\" alt=\"Open In Colab\"/></a>"
      ]
    },
    {
      "cell_type": "code",
      "metadata": {
        "id": "C0l-8hJYSoDE",
        "colab_type": "code",
        "colab": {}
      },
      "source": [
        "import os\n",
        "import pandas as pd\n",
        "import numpy as np\n",
        "import matplotlib.pyplot as p\n",
        "import PIL as pil\n",
        "from tensorflow.keras.preprocessing.image import ImageDataGenerator\n",
        "from tensorflow.keras.utils import to_categorical\n",
        "from sklearn.model_selection import train_test_split\n",
        "import seaborn as sns\n",
        "sns.set_style('darkgrid')"
      ],
      "execution_count": 0,
      "outputs": []
    },
    {
      "cell_type": "markdown",
      "metadata": {
        "id": "rKjn6DvRjeRp",
        "colab_type": "text"
      },
      "source": [
        "# **Visualising Dataset**"
      ]
    },
    {
      "cell_type": "code",
      "metadata": {
        "id": "RK9Us_pIi7Yx",
        "colab_type": "code",
        "outputId": "252df28e-b86b-4084-9748-41d74502bffb",
        "colab": {
          "base_uri": "https://localhost:8080/",
          "height": 279
        }
      },
      "source": [
        "meta=pd.read_csv('drive/My Drive/HAM/HAM10000_metadata.csv')\n",
        "meta.info()"
      ],
      "execution_count": 13,
      "outputs": [
        {
          "output_type": "stream",
          "text": [
            "<class 'pandas.core.frame.DataFrame'>\n",
            "RangeIndex: 10015 entries, 0 to 10014\n",
            "Data columns (total 7 columns):\n",
            " #   Column        Non-Null Count  Dtype  \n",
            "---  ------        --------------  -----  \n",
            " 0   lesion_id     10015 non-null  object \n",
            " 1   image_id      10015 non-null  object \n",
            " 2   dx            10015 non-null  object \n",
            " 3   dx_type       10015 non-null  object \n",
            " 4   age           9958 non-null   float64\n",
            " 5   sex           10015 non-null  object \n",
            " 6   localization  10015 non-null  object \n",
            "dtypes: float64(1), object(6)\n",
            "memory usage: 547.8+ KB\n"
          ],
          "name": "stdout"
        }
      ]
    },
    {
      "cell_type": "code",
      "metadata": {
        "id": "8jARRxg_ki6H",
        "colab_type": "code",
        "outputId": "2f84baf1-fded-4485-8030-16984cc77f67",
        "colab": {
          "base_uri": "https://localhost:8080/",
          "height": 206
        }
      },
      "source": [
        "meta.head()"
      ],
      "execution_count": 0,
      "outputs": [
        {
          "output_type": "execute_result",
          "data": {
            "text/html": [
              "<div>\n",
              "<style scoped>\n",
              "    .dataframe tbody tr th:only-of-type {\n",
              "        vertical-align: middle;\n",
              "    }\n",
              "\n",
              "    .dataframe tbody tr th {\n",
              "        vertical-align: top;\n",
              "    }\n",
              "\n",
              "    .dataframe thead th {\n",
              "        text-align: right;\n",
              "    }\n",
              "</style>\n",
              "<table border=\"1\" class=\"dataframe\">\n",
              "  <thead>\n",
              "    <tr style=\"text-align: right;\">\n",
              "      <th></th>\n",
              "      <th>lesion_id</th>\n",
              "      <th>image_id</th>\n",
              "      <th>dx</th>\n",
              "      <th>dx_type</th>\n",
              "      <th>age</th>\n",
              "      <th>sex</th>\n",
              "      <th>localization</th>\n",
              "    </tr>\n",
              "  </thead>\n",
              "  <tbody>\n",
              "    <tr>\n",
              "      <th>0</th>\n",
              "      <td>HAM_0000118</td>\n",
              "      <td>ISIC_0027419</td>\n",
              "      <td>bkl</td>\n",
              "      <td>histo</td>\n",
              "      <td>80.0</td>\n",
              "      <td>male</td>\n",
              "      <td>scalp</td>\n",
              "    </tr>\n",
              "    <tr>\n",
              "      <th>1</th>\n",
              "      <td>HAM_0000118</td>\n",
              "      <td>ISIC_0025030</td>\n",
              "      <td>bkl</td>\n",
              "      <td>histo</td>\n",
              "      <td>80.0</td>\n",
              "      <td>male</td>\n",
              "      <td>scalp</td>\n",
              "    </tr>\n",
              "    <tr>\n",
              "      <th>2</th>\n",
              "      <td>HAM_0002730</td>\n",
              "      <td>ISIC_0026769</td>\n",
              "      <td>bkl</td>\n",
              "      <td>histo</td>\n",
              "      <td>80.0</td>\n",
              "      <td>male</td>\n",
              "      <td>scalp</td>\n",
              "    </tr>\n",
              "    <tr>\n",
              "      <th>3</th>\n",
              "      <td>HAM_0002730</td>\n",
              "      <td>ISIC_0025661</td>\n",
              "      <td>bkl</td>\n",
              "      <td>histo</td>\n",
              "      <td>80.0</td>\n",
              "      <td>male</td>\n",
              "      <td>scalp</td>\n",
              "    </tr>\n",
              "    <tr>\n",
              "      <th>4</th>\n",
              "      <td>HAM_0001466</td>\n",
              "      <td>ISIC_0031633</td>\n",
              "      <td>bkl</td>\n",
              "      <td>histo</td>\n",
              "      <td>75.0</td>\n",
              "      <td>male</td>\n",
              "      <td>ear</td>\n",
              "    </tr>\n",
              "  </tbody>\n",
              "</table>\n",
              "</div>"
            ],
            "text/plain": [
              "     lesion_id      image_id   dx dx_type   age   sex localization\n",
              "0  HAM_0000118  ISIC_0027419  bkl   histo  80.0  male        scalp\n",
              "1  HAM_0000118  ISIC_0025030  bkl   histo  80.0  male        scalp\n",
              "2  HAM_0002730  ISIC_0026769  bkl   histo  80.0  male        scalp\n",
              "3  HAM_0002730  ISIC_0025661  bkl   histo  80.0  male        scalp\n",
              "4  HAM_0001466  ISIC_0031633  bkl   histo  75.0  male          ear"
            ]
          },
          "metadata": {
            "tags": []
          },
          "execution_count": 6
        }
      ]
    },
    {
      "cell_type": "code",
      "metadata": {
        "id": "ZOJIdZPfjp6f",
        "colab_type": "code",
        "outputId": "0b60e9b2-65dd-4539-eabf-0fc56498e2ae",
        "colab": {
          "base_uri": "https://localhost:8080/",
          "height": 342
        }
      },
      "source": [
        "g = sns.catplot(x=\"dx\", kind=\"count\", palette='bright', data=meta)\n",
        "g.fig.set_size_inches(16, 5)\n",
        "\n",
        "g.ax.set_title('Skin Cancer by Class', fontsize=20)\n",
        "g.set_xlabels('Skin Cancer Class', fontsize=14)\n",
        "g.set_ylabels('Number of Data Points', fontsize=14)"
      ],
      "execution_count": 0,
      "outputs": [
        {
          "output_type": "execute_result",
          "data": {
            "text/plain": [
              "<seaborn.axisgrid.FacetGrid at 0x7facb5935160>"
            ]
          },
          "metadata": {
            "tags": []
          },
          "execution_count": 7
        },
        {
          "output_type": "display_data",
          "data": {
            "image/png": "[encoded data removed]",
            "text/plain": [
              "<Figure size 1152x360 with 1 Axes>"
            ]
          },
          "metadata": {
            "tags": [],
            "needs_background": "light"
          }
        }
      ]
    },
    {
      "cell_type": "markdown",
      "metadata": {
        "id": "WiRSnm9ilibi",
        "colab_type": "text"
      },
      "source": [
        "This graph shows the dataset has a major problem of class imbalance."
      ]
    },
    {
      "cell_type": "code",
      "metadata": {
        "id": "HcJEZtJemamt",
        "colab_type": "code",
        "outputId": "ddcc4f2d-fd4d-4e09-896b-160bbe3ea4be",
        "colab": {
          "base_uri": "https://localhost:8080/",
          "height": 316
        }
      },
      "source": [
        "g = sns.catplot(x=\"dx\", kind=\"count\", hue=\"sex\", palette='coolwarm', data=meta)\n",
        "g.fig.set_size_inches(16, 5)\n",
        "\n",
        "g.ax.set_title('Skin Cancer by Sex', fontsize=20)\n",
        "g.set_xlabels('Skin Cancer Class', fontsize=14)\n",
        "g.set_ylabels('Number of Data Points', fontsize=14)\n",
        "g._legend.set_title('Sex')"
      ],
      "execution_count": 0,
      "outputs": [
        {
          "output_type": "display_data",
          "data": {
            "image/png": "[encoded data removed]",
            "text/plain": [
              "<Figure size 1152x360 with 1 Axes>"
            ]
          },
          "metadata": {
            "tags": [],
            "needs_background": "light"
          }
        }
      ]
    },
    {
      "cell_type": "code",
      "metadata": {
        "id": "bzS8LibJmptv",
        "colab_type": "code",
        "outputId": "fb84b296-6a65-4e0a-d6fa-8c645a5e696a",
        "colab": {
          "base_uri": "https://localhost:8080/",
          "height": 511
        }
      },
      "source": [
        "g = sns.catplot(x=\"dx\", kind=\"count\", hue=\"age\", palette='bright', data=meta)\n",
        "g.fig.set_size_inches(16, 9)\n",
        "\n",
        "g.ax.set_title('Skin Cancer by Age', fontsize=20)\n",
        "g.set_xlabels('Skin Cancer Class', fontsize=14)\n",
        "g.set_ylabels('Number of Data Points', fontsize=14)\n",
        "g._legend.set_title('Age')"
      ],
      "execution_count": 0,
      "outputs": [
        {
          "output_type": "display_data",
          "data": {
            "image/png": "[encoded data removed]",
            "text/plain": [
              "<Figure size 1152x648 with 1 Axes>"
            ]
          },
          "metadata": {
            "tags": [],
            "needs_background": "light"
          }
        }
      ]
    },
    {
      "cell_type": "markdown",
      "metadata": {
        "id": "Fuq7F77qij5v",
        "colab_type": "text"
      },
      "source": [
        "# **Extracting x and y from csv file**"
      ]
    },
    {
      "cell_type": "code",
      "metadata": {
        "id": "tpUlT7hrSuGJ",
        "colab_type": "code",
        "colab": {}
      },
      "source": [
        "df=pd.read_csv('drive/My Drive/HAM/ham28.csv')\n",
        "x=df.drop('label',axis=1)\n",
        "y=df['label']\n",
        "x=x.to_numpy()\n",
        "x=x/255\n",
        "y=to_categorical(y)"
      ],
      "execution_count": 0,
      "outputs": []
    },
    {
      "cell_type": "code",
      "metadata": {
        "id": "RZwBaTpLS_yC",
        "colab_type": "code",
        "outputId": "546794bc-c93c-4570-c251-03be396c0aca",
        "colab": {
          "base_uri": "https://localhost:8080/",
          "height": 167
        }
      },
      "source": [
        "df['label'].value_counts()"
      ],
      "execution_count": 0,
      "outputs": [
        {
          "output_type": "execute_result",
          "data": {
            "text/plain": [
              "4    6705\n",
              "6    1113\n",
              "2    1099\n",
              "1     514\n",
              "0     327\n",
              "5     142\n",
              "3     115\n",
              "Name: label, dtype: int64"
            ]
          },
          "metadata": {
            "tags": []
          },
          "execution_count": 11
        }
      ]
    },
    {
      "cell_type": "code",
      "metadata": {
        "id": "Lf6SSTrphf6i",
        "colab_type": "code",
        "colab": {}
      },
      "source": [
        "label={\n",
        "    ' Actinic keratoses':0,\n",
        "    'Basal cell carcinoma':1,\n",
        "    'Benign keratosis-like lesions':2,\n",
        "    'Dermatofibroma':3,\n",
        "    'Melanocytic nevi':4,\n",
        "    'Melanoma':5,\n",
        "    'Vascular lesions':6\n",
        "}"
      ],
      "execution_count": 0,
      "outputs": []
    },
    {
      "cell_type": "code",
      "metadata": {
        "id": "Cq3JvtnGTS_e",
        "colab_type": "code",
        "colab": {}
      },
      "source": [
        "x=x.reshape(-1,28,28,3)"
      ],
      "execution_count": 0,
      "outputs": []
    },
    {
      "cell_type": "markdown",
      "metadata": {
        "id": "CyXFB0oOm7wp",
        "colab_type": "text"
      },
      "source": [
        "# **Spliiting into train test**"
      ]
    },
    {
      "cell_type": "code",
      "metadata": {
        "id": "W36JI4DuXBPc",
        "colab_type": "code",
        "colab": {}
      },
      "source": [
        "xtrain,xtest,ytrain,ytest = train_test_split(x,y,test_size=0.1,random_state=13,stratify=df['label'])"
      ],
      "execution_count": 0,
      "outputs": []
    },
    {
      "cell_type": "markdown",
      "metadata": {
        "id": "x_lo8S6AnF0H",
        "colab_type": "text"
      },
      "source": [
        "# **Image augmentation**"
      ]
    },
    {
      "cell_type": "code",
      "metadata": {
        "id": "C-Bk5I-XXQ3M",
        "colab_type": "code",
        "colab": {}
      },
      "source": [
        "datagen=ImageDataGenerator(rotation_range=20, # rotate the image 20 degrees\n",
        "                               width_shift_range=0.10, # Shift the pic width by a max of 5%\n",
        "                               height_shift_range=0.10, # Shift the pic height by a max of 5%\n",
        "                               rescale=1/255, # Rescale the image by normalzing it.\n",
        "                               shear_range=0.1, # Shear means cutting away part of the image (max 10%)\n",
        "                               zoom_range=0.1, # Zoom in by 10% max\n",
        "                               horizontal_flip=True,\n",
        "                               vertical_flip=True,\n",
        "                               fill_mode='nearest')"
      ],
      "execution_count": 0,
      "outputs": []
    },
    {
      "cell_type": "code",
      "metadata": {
        "id": "4lp-1rM8XZ4M",
        "colab_type": "code",
        "colab": {}
      },
      "source": [
        "datagen.fit(xtrain)"
      ],
      "execution_count": 0,
      "outputs": []
    },
    {
      "cell_type": "markdown",
      "metadata": {
        "id": "wWDsBKvFm5IV",
        "colab_type": "text"
      },
      "source": [
        "# **Model**"
      ]
    },
    {
      "cell_type": "code",
      "metadata": {
        "id": "rK9FAP54Hv0x",
        "colab_type": "code",
        "colab": {}
      },
      "source": [
        "from tensorflow.keras.metrics import categorical_accuracy, top_k_categorical_accuracy\n",
        "def accuracy(y_true, y_pred):\n",
        "    return top_k_categorical_accuracy(y_true, y_pred, k=2)"
      ],
      "execution_count": 0,
      "outputs": []
    },
    {
      "cell_type": "code",
      "metadata": {
        "id": "FxNe2bZRXhoa",
        "colab_type": "code",
        "colab": {
          "base_uri": "https://localhost:8080/",
          "height": 877
        },
        "outputId": "933ebd52-eeb0-4817-f65c-96791308a395"
      },
      "source": [
        "from tensorflow.keras.layers import Flatten,Dense,Dropout,BatchNormalization,Conv2D,MaxPooling2D\n",
        "from tensorflow.keras.models import Sequential\n",
        "from tensorflow.keras.metrics import Recall\n",
        "from tensorflow.keras.optimizers import RMSprop\n",
        "\n",
        "model=Sequential()\n",
        "\n",
        "model.add(Conv2D(64,(2,2),input_shape=(28,28,3),activation='relu'))\n",
        "model.add(MaxPooling2D(pool_size=(2, 2)))\n",
        "model.add(BatchNormalization())\n",
        "\n",
        "model.add(Conv2D(512,(2,2),input_shape=(28,28,3),activation='relu'))\n",
        "model.add(MaxPooling2D(pool_size=(2, 2)))\n",
        "model.add(BatchNormalization())\n",
        "\n",
        "model.add(Dropout(0.3))\n",
        "\n",
        "model.add(Conv2D(1024,(2,2),input_shape=(28,28,3),activation='relu'))\n",
        "model.add(MaxPooling2D(pool_size=(2, 2)))\n",
        "model.add(BatchNormalization())\n",
        "\n",
        "model.add(Dropout(0.3))\n",
        "\n",
        "model.add(Conv2D(1024,(1,1),input_shape=(28,28,3),activation='relu'))\n",
        "model.add(MaxPooling2D(pool_size=(1, 1)))\n",
        "model.add(BatchNormalization())\n",
        "\n",
        "model.add(Dropout(0.3))\n",
        "\n",
        "model.add(Flatten())\n",
        "\n",
        "model.add(Dense(256,activation='relu'))\n",
        "model.add(Dropout(0.5))\n",
        "\n",
        "\n",
        "model.add(Dense(7,activation='softmax'))\n",
        "\n",
        "model.compile(optimizer='adam',loss='categorical_crossentropy',metrics=[accuracy])\n",
        "\n",
        "model.summary()"
      ],
      "execution_count": 21,
      "outputs": [
        {
          "output_type": "stream",
          "text": [
            "Model: \"sequential_1\"\n",
            "_________________________________________________________________\n",
            "Layer (type)                 Output Shape              Param #   \n",
            "=================================================================\n",
            "conv2d_4 (Conv2D)            (None, 27, 27, 64)        832       \n",
            "_________________________________________________________________\n",
            "max_pooling2d_4 (MaxPooling2 (None, 13, 13, 64)        0         \n",
            "_________________________________________________________________\n",
            "batch_normalization_4 (Batch (None, 13, 13, 64)        256       \n",
            "_________________________________________________________________\n",
            "conv2d_5 (Conv2D)            (None, 12, 12, 512)       131584    \n",
            "_________________________________________________________________\n",
            "max_pooling2d_5 (MaxPooling2 (None, 6, 6, 512)         0         \n",
            "_________________________________________________________________\n",
            "batch_normalization_5 (Batch (None, 6, 6, 512)         2048      \n",
            "_________________________________________________________________\n",
            "dropout_4 (Dropout)          (None, 6, 6, 512)         0         \n",
            "_________________________________________________________________\n",
            "conv2d_6 (Conv2D)            (None, 5, 5, 1024)        2098176   \n",
            "_________________________________________________________________\n",
            "max_pooling2d_6 (MaxPooling2 (None, 2, 2, 1024)        0         \n",
            "_________________________________________________________________\n",
            "batch_normalization_6 (Batch (None, 2, 2, 1024)        4096      \n",
            "_________________________________________________________________\n",
            "dropout_5 (Dropout)          (None, 2, 2, 1024)        0         \n",
            "_________________________________________________________________\n",
            "conv2d_7 (Conv2D)            (None, 2, 2, 1024)        1049600   \n",
            "_________________________________________________________________\n",
            "max_pooling2d_7 (MaxPooling2 (None, 2, 2, 1024)        0         \n",
            "_________________________________________________________________\n",
            "batch_normalization_7 (Batch (None, 2, 2, 1024)        4096      \n",
            "_________________________________________________________________\n",
            "dropout_6 (Dropout)          (None, 2, 2, 1024)        0         \n",
            "_________________________________________________________________\n",
            "flatten_1 (Flatten)          (None, 4096)              0         \n",
            "_________________________________________________________________\n",
            "dense_2 (Dense)              (None, 256)               1048832   \n",
            "_________________________________________________________________\n",
            "dropout_7 (Dropout)          (None, 256)               0         \n",
            "_________________________________________________________________\n",
            "dense_3 (Dense)              (None, 7)                 1799      \n",
            "=================================================================\n",
            "Total params: 4,341,319\n",
            "Trainable params: 4,336,071\n",
            "Non-trainable params: 5,248\n",
            "_________________________________________________________________\n"
          ],
          "name": "stdout"
        }
      ]
    },
    {
      "cell_type": "code",
      "metadata": {
        "id": "rDKApIl3Zup6",
        "colab_type": "code",
        "colab": {}
      },
      "source": [
        "from tensorflow.keras.callbacks import EarlyStopping,ReduceLROnPlateau\n",
        "\n",
        "early=EarlyStopping(monitor='accuracy',patience=3)\n",
        "reduce_lr = ReduceLROnPlateau(monitor='accuracy', factor=0.5, patience=2, verbose=1, mode='min', min_lr=0.0001)"
      ],
      "execution_count": 0,
      "outputs": []
    },
    {
      "cell_type": "markdown",
      "metadata": {
        "id": "Rq8E0DClnPzd",
        "colab_type": "text"
      },
      "source": [
        "# **Training**"
      ]
    },
    {
      "cell_type": "code",
      "metadata": {
        "id": "CNyQYcjcJZh2",
        "colab_type": "code",
        "colab": {}
      },
      "source": [
        "from tensorflow.keras.metrics import categorical_accuracy, top_k_categorical_accuracy\n",
        "def accuracy(y_true, y_pred):\n",
        "    return top_k_categorical_accuracy(y_true, y_pred, k=2)"
      ],
      "execution_count": 0,
      "outputs": []
    },
    {
      "cell_type": "code",
      "metadata": {
        "id": "IYNa6dMvwuzf",
        "colab_type": "code",
        "colab": {}
      },
      "source": [
        "class_weights={0:1,1:1,2:1,3:1,4:0.5,5:1,6:1}"
      ],
      "execution_count": 0,
      "outputs": []
    },
    {
      "cell_type": "code",
      "metadata": {
        "id": "LnHFC2AzYSND",
        "colab_type": "code",
        "outputId": "94414342-1264-4837-e0a5-a5a10ca7939b",
        "colab": {
          "base_uri": "https://localhost:8080/",
          "height": 1000
        }
      },
      "source": [
        "model.fit(xtrain,ytrain,epochs=30,validation_data=(xtest,ytest),callbacks=[reduce_lr,early],class_weight=class_weights)"
      ],
      "execution_count": 0,
      "outputs": [
        {
          "output_type": "stream",
          "text": [
            "Epoch 1/30\n",
            "282/282 [==============================] - 5s 18ms/step - loss: 1.2352 - accuracy: 0.7995 - val_loss: 2.7656 - val_accuracy: 0.1158 - lr: 0.0010\n",
            "Epoch 2/30\n",
            "282/282 [==============================] - 4s 15ms/step - loss: 0.8958 - accuracy: 0.8388 - val_loss: 1.0363 - val_accuracy: 0.8343 - lr: 0.0010\n",
            "Epoch 3/30\n",
            "280/282 [============================>.] - ETA: 0s - loss: 0.8439 - accuracy: 0.8499\n",
            "Epoch 00003: ReduceLROnPlateau reducing learning rate to 0.0005000000237487257.\n",
            "282/282 [==============================] - 4s 15ms/step - loss: 0.8453 - accuracy: 0.8494 - val_loss: 0.7535 - val_accuracy: 0.8543 - lr: 0.0010\n",
            "Epoch 4/30\n",
            "282/282 [==============================] - 4s 15ms/step - loss: 0.7545 - accuracy: 0.8719 - val_loss: 0.6869 - val_accuracy: 0.8842 - lr: 5.0000e-04\n",
            "Epoch 5/30\n",
            "280/282 [============================>.] - ETA: 0s - loss: 0.7162 - accuracy: 0.8809\n",
            "Epoch 00005: ReduceLROnPlateau reducing learning rate to 0.0002500000118743628.\n",
            "282/282 [==============================] - 4s 15ms/step - loss: 0.7156 - accuracy: 0.8809 - val_loss: 0.7361 - val_accuracy: 0.8693 - lr: 5.0000e-04\n",
            "Epoch 6/30\n",
            "282/282 [==============================] - 4s 15ms/step - loss: 0.6763 - accuracy: 0.8889 - val_loss: 0.6253 - val_accuracy: 0.8932 - lr: 2.5000e-04\n",
            "Epoch 7/30\n",
            "281/282 [============================>.] - ETA: 0s - loss: 0.6639 - accuracy: 0.8941\n",
            "Epoch 00007: ReduceLROnPlateau reducing learning rate to 0.0001250000059371814.\n",
            "282/282 [==============================] - 4s 15ms/step - loss: 0.6635 - accuracy: 0.8943 - val_loss: 0.6978 - val_accuracy: 0.8922 - lr: 2.5000e-04\n",
            "Epoch 8/30\n",
            "282/282 [==============================] - 4s 15ms/step - loss: 0.6299 - accuracy: 0.9019 - val_loss: 0.6014 - val_accuracy: 0.9002 - lr: 1.2500e-04\n",
            "Epoch 9/30\n",
            "281/282 [============================>.] - ETA: 0s - loss: 0.6128 - accuracy: 0.9052\n",
            "Epoch 00009: ReduceLROnPlateau reducing learning rate to 0.0001.\n",
            "282/282 [==============================] - 4s 15ms/step - loss: 0.6129 - accuracy: 0.9052 - val_loss: 0.5902 - val_accuracy: 0.9112 - lr: 1.2500e-04\n",
            "Epoch 10/30\n",
            "282/282 [==============================] - 4s 15ms/step - loss: 0.5986 - accuracy: 0.9111 - val_loss: 0.6169 - val_accuracy: 0.9012 - lr: 1.0000e-04\n",
            "Epoch 11/30\n",
            "282/282 [==============================] - 4s 15ms/step - loss: 0.5861 - accuracy: 0.9097 - val_loss: 0.5871 - val_accuracy: 0.9172 - lr: 1.0000e-04\n",
            "Epoch 12/30\n",
            "282/282 [==============================] - 4s 15ms/step - loss: 0.5790 - accuracy: 0.9129 - val_loss: 0.6371 - val_accuracy: 0.8932 - lr: 1.0000e-04\n",
            "Epoch 13/30\n",
            "282/282 [==============================] - 4s 15ms/step - loss: 0.5674 - accuracy: 0.9141 - val_loss: 0.5826 - val_accuracy: 0.9152 - lr: 1.0000e-04\n",
            "Epoch 14/30\n",
            "282/282 [==============================] - 4s 15ms/step - loss: 0.5567 - accuracy: 0.9192 - val_loss: 0.5775 - val_accuracy: 0.9142 - lr: 1.0000e-04\n",
            "Epoch 15/30\n",
            "282/282 [==============================] - 4s 15ms/step - loss: 0.5453 - accuracy: 0.9237 - val_loss: 0.6019 - val_accuracy: 0.9142 - lr: 1.0000e-04\n",
            "Epoch 16/30\n",
            "282/282 [==============================] - 4s 15ms/step - loss: 0.5307 - accuracy: 0.9244 - val_loss: 0.5657 - val_accuracy: 0.9251 - lr: 1.0000e-04\n",
            "Epoch 17/30\n",
            "282/282 [==============================] - 4s 15ms/step - loss: 0.5150 - accuracy: 0.9304 - val_loss: 0.6014 - val_accuracy: 0.9192 - lr: 1.0000e-04\n",
            "Epoch 18/30\n",
            "282/282 [==============================] - 4s 16ms/step - loss: 0.5053 - accuracy: 0.9330 - val_loss: 0.5706 - val_accuracy: 0.9172 - lr: 1.0000e-04\n",
            "Epoch 19/30\n",
            "282/282 [==============================] - 4s 15ms/step - loss: 0.4978 - accuracy: 0.9351 - val_loss: 0.6123 - val_accuracy: 0.9102 - lr: 1.0000e-04\n",
            "Epoch 20/30\n",
            "282/282 [==============================] - 4s 15ms/step - loss: 0.4869 - accuracy: 0.9352 - val_loss: 0.5725 - val_accuracy: 0.9222 - lr: 1.0000e-04\n",
            "Epoch 21/30\n",
            "282/282 [==============================] - 4s 15ms/step - loss: 0.4673 - accuracy: 0.9408 - val_loss: 0.5476 - val_accuracy: 0.9311 - lr: 1.0000e-04\n",
            "Epoch 22/30\n",
            "282/282 [==============================] - 4s 15ms/step - loss: 0.4514 - accuracy: 0.9437 - val_loss: 0.6226 - val_accuracy: 0.9102 - lr: 1.0000e-04\n",
            "Epoch 23/30\n",
            "282/282 [==============================] - 4s 15ms/step - loss: 0.4469 - accuracy: 0.9442 - val_loss: 0.6030 - val_accuracy: 0.9122 - lr: 1.0000e-04\n",
            "Epoch 24/30\n",
            "282/282 [==============================] - 4s 15ms/step - loss: 0.4244 - accuracy: 0.9501 - val_loss: 0.5747 - val_accuracy: 0.9192 - lr: 1.0000e-04\n",
            "Epoch 25/30\n",
            "282/282 [==============================] - 4s 15ms/step - loss: 0.4215 - accuracy: 0.9504 - val_loss: 0.5696 - val_accuracy: 0.9271 - lr: 1.0000e-04\n",
            "Epoch 26/30\n",
            "282/282 [==============================] - 4s 15ms/step - loss: 0.4031 - accuracy: 0.9550 - val_loss: 0.5787 - val_accuracy: 0.9242 - lr: 1.0000e-04\n",
            "Epoch 27/30\n",
            "282/282 [==============================] - 4s 15ms/step - loss: 0.3947 - accuracy: 0.9558 - val_loss: 0.6078 - val_accuracy: 0.9162 - lr: 1.0000e-04\n",
            "Epoch 28/30\n",
            "282/282 [==============================] - 4s 15ms/step - loss: 0.3791 - accuracy: 0.9598 - val_loss: 0.7047 - val_accuracy: 0.9142 - lr: 1.0000e-04\n",
            "Epoch 29/30\n",
            "282/282 [==============================] - 4s 15ms/step - loss: 0.3590 - accuracy: 0.9639 - val_loss: 0.5866 - val_accuracy: 0.9281 - lr: 1.0000e-04\n",
            "Epoch 30/30\n",
            "282/282 [==============================] - 4s 15ms/step - loss: 0.3528 - accuracy: 0.9632 - val_loss: 0.6139 - val_accuracy: 0.9172 - lr: 1.0000e-04\n"
          ],
          "name": "stdout"
        },
        {
          "output_type": "execute_result",
          "data": {
            "text/plain": [
              "<tensorflow.python.keras.callbacks.History at 0x7facb2246240>"
            ]
          },
          "metadata": {
            "tags": []
          },
          "execution_count": 22
        }
      ]
    },
    {
      "cell_type": "markdown",
      "metadata": {
        "id": "v-sTm885fgz3",
        "colab_type": "text"
      },
      "source": [
        "# **Evaluation**\n"
      ]
    },
    {
      "cell_type": "code",
      "metadata": {
        "id": "b0RcCwSstI9U",
        "colab_type": "code",
        "outputId": "bfbbbcbc-3a27-4586-c325-10b3fc55e2cf",
        "colab": {
          "base_uri": "https://localhost:8080/",
          "height": 305
        }
      },
      "source": [
        "p.figure(figsize=(15,10))\n",
        "loss=pd.DataFrame(model.history.history)\n",
        "loss[['accuracy','val_accuracy']].plot()"
      ],
      "execution_count": 0,
      "outputs": [
        {
          "output_type": "execute_result",
          "data": {
            "text/plain": [
              "<matplotlib.axes._subplots.AxesSubplot at 0x7faca006de80>"
            ]
          },
          "metadata": {
            "tags": []
          },
          "execution_count": 28
        },
        {
          "output_type": "display_data",
          "data": {
            "text/plain": [
              "<Figure size 1080x720 with 0 Axes>"
            ]
          },
          "metadata": {
            "tags": []
          }
        },
        {
          "output_type": "display_data",
          "data": {
            "image/png": "[encoded data removed]",
            "text/plain": [
              "<Figure size 432x288 with 1 Axes>"
            ]
          },
          "metadata": {
            "tags": [],
            "needs_background": "light"
          }
        }
      ]
    },
    {
      "cell_type": "code",
      "metadata": {
        "id": "ssWpO0srJldW",
        "colab_type": "code",
        "outputId": "ee08be1b-e72e-4d5e-aa4e-efd6e69f70c8",
        "colab": {
          "base_uri": "https://localhost:8080/",
          "height": 302
        }
      },
      "source": [
        "p.figure(figsize=(15,10))\n",
        "loss[['loss','val_loss']].plot()"
      ],
      "execution_count": 0,
      "outputs": [
        {
          "output_type": "execute_result",
          "data": {
            "text/plain": [
              "<matplotlib.axes._subplots.AxesSubplot at 0x7fac4a7b8b00>"
            ]
          },
          "metadata": {
            "tags": []
          },
          "execution_count": 29
        },
        {
          "output_type": "display_data",
          "data": {
            "text/plain": [
              "<Figure size 1080x720 with 0 Axes>"
            ]
          },
          "metadata": {
            "tags": []
          }
        },
        {
          "output_type": "display_data",
          "data": {
            "image/png": "[encoded data removed]",
            "text/plain": [
              "<Figure size 432x288 with 1 Axes>"
            ]
          },
          "metadata": {
            "tags": [],
            "needs_background": "light"
          }
        }
      ]
    },
    {
      "cell_type": "code",
      "metadata": {
        "id": "Rb37VRprLlxv",
        "colab_type": "code",
        "colab": {}
      },
      "source": [
        "decode={\n",
        "    0:'Actinic keratosis',\n",
        "    1:'Basal cell carcinoma',\n",
        "    2:'Benign keratosis-like lesions',\n",
        "    3:'Dermatofibroma',\n",
        "    4:'Melanocytic nevi',\n",
        "    5:'Melanoma',\n",
        "    6:'Vascular lesion'  \n",
        "}"
      ],
      "execution_count": 0,
      "outputs": []
    },
    {
      "cell_type": "code",
      "metadata": {
        "id": "ta-210noJngc",
        "colab_type": "code",
        "outputId": "a1ab6902-893a-443a-ac24-8c255d227dcb",
        "colab": {
          "base_uri": "https://localhost:8080/",
          "height": 502
        }
      },
      "source": [
        "p.figure(figsize=(10,8))\n",
        "\n",
        "pred=model.predict(xtest)\n",
        "\n",
        "from sklearn.metrics import roc_curve,auc\n",
        "fpr = dict()\n",
        "tpr = dict()\n",
        "roc_auc = dict()\n",
        "for i in range(7):\n",
        "    fpr[i], tpr[i], _ = roc_curve(ytest[:, i], pred[:, i])\n",
        "    roc_auc[i] = auc(fpr[i], tpr[i])\n",
        "\n",
        "for i in range(7):\n",
        "    p.plot(fpr[i],tpr[i],label=decode[i],linewidth=2)\n",
        "p.plot([0, 1], [0, 1], 'k--', lw=2,label='random guess')\n",
        "p.legend(loc=\"lower right\")"
      ],
      "execution_count": 0,
      "outputs": [
        {
          "output_type": "execute_result",
          "data": {
            "text/plain": [
              "<matplotlib.legend.Legend at 0x7fac4a6062e8>"
            ]
          },
          "metadata": {
            "tags": []
          },
          "execution_count": 34
        },
        {
          "output_type": "display_data",
          "data": {
            "image/png": "[encoded data removed]",
            "text/plain": [
              "<Figure size 720x576 with 1 Axes>"
            ]
          },
          "metadata": {
            "tags": [],
            "needs_background": "light"
          }
        }
      ]
    },
    {
      "cell_type": "code",
      "metadata": {
        "id": "bVdsYO7DtN-m",
        "colab_type": "code",
        "outputId": "918b01e1-24f8-4deb-aa88-8d9202aaffaf",
        "colab": {
          "base_uri": "https://localhost:8080/",
          "height": 279
        }
      },
      "source": [
        "from sklearn.metrics import classification_report,confusion_matrix\n",
        "\n",
        "predictions=model.predict_classes(xtest)\n",
        "\n",
        "check=[]\n",
        "for i in range(len(ytest)):\n",
        "  for j in range(7):\n",
        "    if(ytest[i][j]==1):\n",
        "      check.append(j)\n",
        "check=np.asarray(check)\n",
        "print(classification_report(check,predictions))"
      ],
      "execution_count": 0,
      "outputs": [
        {
          "output_type": "stream",
          "text": [
            "              precision    recall  f1-score   support\n",
            "\n",
            "           0       0.46      0.62      0.53        37\n",
            "           1       0.64      0.53      0.58        64\n",
            "           2       0.67      0.48      0.56       123\n",
            "           3       0.67      0.33      0.44         6\n",
            "           4       0.87      0.96      0.91       653\n",
            "           5       0.79      0.79      0.79        14\n",
            "           6       0.60      0.42      0.49       105\n",
            "\n",
            "    accuracy                           0.80      1002\n",
            "   macro avg       0.67      0.59      0.61      1002\n",
            "weighted avg       0.78      0.80      0.78      1002\n",
            "\n"
          ],
          "name": "stdout"
        }
      ]
    }
  ]
}