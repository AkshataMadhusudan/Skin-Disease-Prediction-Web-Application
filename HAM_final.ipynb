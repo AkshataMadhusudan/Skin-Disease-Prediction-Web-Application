{
  "nbformat": 4,
  "nbformat_minor": 0,
  "metadata": {
    "colab": {
      "name": "HAM final.ipynb",
      "provenance": [],
      "collapsed_sections": [],
      "machine_shape": "hm",
      "mount_file_id": "19M6knfxjcMYElfexc_lWPVsdC9k9Orql",
      "authorship_tag": "ABX9TyMw1UFD8UMSCOzqQjXIVfjr",
      "include_colab_link": true
    },
    "kernelspec": {
      "name": "python3",
      "display_name": "Python 3"
    },
    "accelerator": "GPU"
  },
  "cells": [
    {
      "cell_type": "markdown",
      "metadata": {
        "id": "view-in-github",
        "colab_type": "text"
      },
      "source": [
        "<a href=\"https://colab.research.google.com/github/mittshah2/Skin-Disease-Prediction-Web-Application/blob/master/HAM_final.ipynb\" target=\"_parent\"><img src=\"https://colab.research.google.com/assets/colab-badge.svg\" alt=\"Open In Colab\"/></a>"
      ]
    },
    {
      "cell_type": "code",
      "metadata": {
        "id": "FXdkx-ZtOIUL",
        "colab_type": "code",
        "colab": {}
      },
      "source": [
        "import os\n",
        "import pandas as pd\n",
        "import numpy as np\n",
        "import matplotlib.pyplot as p\n",
        "import PIL as pil\n",
        "from tensorflow.keras.preprocessing.image import ImageDataGenerator\n",
        "from tensorflow.keras.utils import to_categorical,normalize\n",
        "import cv2\n",
        "from tqdm import tqdm"
      ],
      "execution_count": 0,
      "outputs": []
    },
    {
      "cell_type": "code",
      "metadata": {
        "id": "-1sJpAHfOgMI",
        "colab_type": "code",
        "colab": {}
      },
      "source": [
        "# !unzip -uq 'drive/My Drive/Actinic keratoses.zip' -d '/'\n",
        "# !unzip -uq 'drive/My Drive/Basal cell carcinoma.zip' -d '/'\n",
        "# !unzip -uq 'drive/My Drive/Benign keratosis-like lesions.zip' -d '/'\n",
        "# !unzip -uq 'drive/My Drive/Melanocytic nevi.zip' -d '/'\n",
        "# !unzip -uq 'drive/My Drive/Dermatofibroma.zip' -d '/'\n",
        "# !unzip -uq 'drive/My Drive/Melanoma.zip' -d '/'\n",
        "# !unzip -uq 'drive/My Drive/Vascular lesions.zip' -d '/'"
      ],
      "execution_count": 0,
      "outputs": []
    },
    {
      "cell_type": "code",
      "metadata": {
        "id": "EmbAmYamO0NF",
        "colab_type": "code",
        "colab": {}
      },
      "source": [
        "datagen=ImageDataGenerator(rotation_range=20, # rotate the image 20 degrees\n",
        "                               width_shift_range=0.10, # Shift the pic width by a max of 5%\n",
        "                               height_shift_range=0.10, # Shift the pic height by a max of 5%\n",
        "                               rescale=1/255, # Rescale the image by normalzing it.\n",
        "                               shear_range=0.1, # Shear means cutting away part of the image (max 10%)\n",
        "                               zoom_range=0.1, # Zoom in by 10% max\n",
        "                               horizontal_flip=True,\n",
        "                               vertical_flip=True,\n",
        "                               fill_mode='nearest')"
      ],
      "execution_count": 0,
      "outputs": []
    },
    {
      "cell_type": "code",
      "metadata": {
        "id": "EbdsQlhMO4NT",
        "colab_type": "code",
        "colab": {}
      },
      "source": [
        "input_shape=(224,224,3)"
      ],
      "execution_count": 0,
      "outputs": []
    },
    {
      "cell_type": "code",
      "metadata": {
        "id": "KmHRj24tO56P",
        "colab_type": "code",
        "colab": {}
      },
      "source": [
        "df=pd.read_csv('drive/My Drive/HAM/HAM10000_metadata.csv')\n",
        "key={\n",
        "    'akiec':0,\n",
        "     'bcc':1,\n",
        "     'bkl':2,\n",
        "     'df':3,\n",
        "     'nv':4,\n",
        "     'mel':5,\n",
        "     'vasc':6\n",
        "}\n",
        "df['label']=df['dx'].map(key)"
      ],
      "execution_count": 0,
      "outputs": []
    },
    {
      "cell_type": "code",
      "metadata": {
        "id": "jjnphAwYO6p-",
        "colab_type": "code",
        "colab": {}
      },
      "source": [
        "# data=[]\n",
        "# for i in tqdm(os.listdir('/Actinic keratoses')):\n",
        "#   path='/Actinic keratoses/'+str(i)\n",
        "#   img=cv2.imread(path)  \n",
        "#   img=cv2.resize(img,input_shape[:2])\n",
        "#   data.append(img)\n",
        "# x=np.asarray(data)"
      ],
      "execution_count": 0,
      "outputs": []
    },
    {
      "cell_type": "code",
      "metadata": {
        "id": "kyoOPh0NPRSl",
        "colab_type": "code",
        "colab": {}
      },
      "source": [
        "# data=[]\n",
        "# for i in tqdm(os.listdir('/Basal cell carcinoma')):\n",
        "#   path='/Basal cell carcinoma/'+str(i)\n",
        "#   img=cv2.imread(path)\n",
        "#   img=cv2.resize(img,input_shape[:2])\n",
        "#   data.append(img)\n",
        "# x=np.append(x,data,axis=0)"
      ],
      "execution_count": 0,
      "outputs": []
    },
    {
      "cell_type": "code",
      "metadata": {
        "id": "MQlFPL9yQgHu",
        "colab_type": "code",
        "colab": {}
      },
      "source": [
        "# data=[]\n",
        "# for i in tqdm(os.listdir('/Benign keratosis-like lesions')):\n",
        "#   path='/Benign keratosis-like lesions/'+str(i)\n",
        "#   img=cv2.imread(path)\n",
        "#   img=cv2.resize(img,input_shape[:2])\n",
        "#   data.append(img)\n",
        "# x=np.append(x,data,axis=0)"
      ],
      "execution_count": 0,
      "outputs": []
    },
    {
      "cell_type": "code",
      "metadata": {
        "id": "3R0ivPSTQjAy",
        "colab_type": "code",
        "colab": {}
      },
      "source": [
        "# data=[]\n",
        "# for i in tqdm(os.listdir('/Dermatofibroma')):\n",
        "#   path='/Dermatofibroma/'+str(i)\n",
        "#   img=cv2.imread(path)\n",
        "#   img=cv2.resize(img,input_shape[:2])\n",
        "#   data.append(img)\n",
        "# x=np.append(x,data,axis=0)"
      ],
      "execution_count": 0,
      "outputs": []
    },
    {
      "cell_type": "code",
      "metadata": {
        "id": "Nft7m58uQjmf",
        "colab_type": "code",
        "colab": {}
      },
      "source": [
        "# data=[]\n",
        "# for i in tqdm(os.listdir('/Melanocytic nevi')):\n",
        "#   path='/Melanocytic nevi/'+str(i)\n",
        "#   img=cv2.imread(path)\n",
        "#   img=cv2.resize(img,input_shape[:2])\n",
        "#   data.append(img)\n",
        "# x=np.append(x,data,axis=0)"
      ],
      "execution_count": 0,
      "outputs": []
    },
    {
      "cell_type": "code",
      "metadata": {
        "id": "d63stFJ9Qjpm",
        "colab_type": "code",
        "colab": {}
      },
      "source": [
        "# data=[]\n",
        "# for i in tqdm(os.listdir('/Melanoma')):\n",
        "#   path='/Melanoma/'+str(i)\n",
        "#   img=cv2.imread(path)\n",
        "#   img=cv2.resize(img,input_shape[:2])\n",
        "#   data.append(img)\n",
        "# x=np.append(x,data,axis=0)"
      ],
      "execution_count": 0,
      "outputs": []
    },
    {
      "cell_type": "code",
      "metadata": {
        "id": "WCr72Ld8Qjtw",
        "colab_type": "code",
        "colab": {}
      },
      "source": [
        "# data=[]\n",
        "# for i in tqdm(os.listdir('/Vascular lesions')):\n",
        "#   path='/Vascular lesions/'+str(i)\n",
        "#   img=cv2.imread(path)\n",
        "#   img=cv2.resize(img,input_shape[:2])\n",
        "#   data.append(img)\n",
        "# x=np.append(x,data,axis=0)"
      ],
      "execution_count": 0,
      "outputs": []
    },
    {
      "cell_type": "code",
      "metadata": {
        "id": "F7jDvEOuQoQd",
        "colab_type": "code",
        "colab": {}
      },
      "source": [
        "# x.shape"
      ],
      "execution_count": 0,
      "outputs": []
    },
    {
      "cell_type": "code",
      "metadata": {
        "id": "M-Yg7ZmjQqdd",
        "colab_type": "code",
        "colab": {}
      },
      "source": [
        "# np.save('drive/My Drive/HAM/data of ham(224x224).npy',x)"
      ],
      "execution_count": 0,
      "outputs": []
    },
    {
      "cell_type": "code",
      "metadata": {
        "id": "pUhiOMRXW3Nu",
        "colab_type": "code",
        "colab": {}
      },
      "source": [
        "x=np.load('drive/My Drive/HAM/data of ham(224x224).npy')"
      ],
      "execution_count": 0,
      "outputs": []
    },
    {
      "cell_type": "code",
      "metadata": {
        "id": "ddqdHcbWQsdG",
        "colab_type": "code",
        "outputId": "295f8f08-f11f-494c-ff79-f7982c76386d",
        "colab": {
          "base_uri": "https://localhost:8080/",
          "height": 36
        }
      },
      "source": [
        "y=[]\n",
        "for i in range(130):\n",
        "  y.append(0)\n",
        "for i in range(514):\n",
        "  y.append(1)\n",
        "for i in range(1176):\n",
        "  y.append(2)\n",
        "for i in range(115):\n",
        "  y.append(3)\n",
        "for i in range(6705):\n",
        "  y.append(4)\n",
        "for i in range(1113):\n",
        "  y.append(5)\n",
        "for i in range(142):\n",
        "  y.append(6)\n",
        "len(y)"
      ],
      "execution_count": 38,
      "outputs": [
        {
          "output_type": "execute_result",
          "data": {
            "text/plain": [
              "9895"
            ]
          },
          "metadata": {
            "tags": []
          },
          "execution_count": 38
        }
      ]
    },
    {
      "cell_type": "code",
      "metadata": {
        "id": "Tb9CPe_lQuOo",
        "colab_type": "code",
        "outputId": "e7b3f7d5-bd2a-4a8f-da56-6591dfee0a72",
        "colab": {
          "base_uri": "https://localhost:8080/",
          "height": 36
        }
      },
      "source": [
        "y=np.asarray(y)\n",
        "y.shape"
      ],
      "execution_count": 39,
      "outputs": [
        {
          "output_type": "execute_result",
          "data": {
            "text/plain": [
              "(9895,)"
            ]
          },
          "metadata": {
            "tags": []
          },
          "execution_count": 39
        }
      ]
    },
    {
      "cell_type": "code",
      "metadata": {
        "id": "2EaGKIf6QwMG",
        "colab_type": "code",
        "colab": {}
      },
      "source": [
        "y=to_categorical(y)"
      ],
      "execution_count": 0,
      "outputs": []
    },
    {
      "cell_type": "code",
      "metadata": {
        "id": "9OYd7gQXbtk9",
        "colab_type": "code",
        "colab": {}
      },
      "source": [
        "from sklearn.model_selection import train_test_split\n",
        "\n",
        "trainx,trainy,testx,testy = train_test_split(x,y,test_size=0.02,random_state=42)"
      ],
      "execution_count": 0,
      "outputs": []
    },
    {
      "cell_type": "code",
      "metadata": {
        "id": "Iqg6bpORcFwU",
        "colab_type": "code",
        "colab": {}
      },
      "source": [
        "datagen.fit(trainx)"
      ],
      "execution_count": 0,
      "outputs": []
    },
    {
      "cell_type": "code",
      "metadata": {
        "id": "Y-vvoj1jkOqg",
        "colab_type": "code",
        "outputId": "6e1a54d7-799d-4185-a781-94a73b187407",
        "colab": {
          "base_uri": "https://localhost:8080/",
          "height": 840
        }
      },
      "source": [
        "from tensorflow.keras.layers import Flatten,Dense,Dropout,BatchNormalization,Conv2D,MaxPooling2D\n",
        "from tensorflow.keras.models import Sequential\n",
        "from tensorflow.keras.metrics import Recall\n",
        "from tensorflow.keras.optimizers import RMSprop\n",
        "\n",
        "model=Sequential(name='HAM')\n",
        "\n",
        "model.add(Conv2D(64,(2,2),input_shape=input_shape,activation='relu'))\n",
        "model.add(MaxPooling2D(pool_size=(2, 2)))\n",
        "# model.add(BatchNormalization())\n",
        "\n",
        "model.add(Conv2D(256,(2,2),activation='relu'))\n",
        "model.add(MaxPooling2D(pool_size=(2, 2)))\n",
        "# model.add(BatchNormalization())\n",
        "\n",
        "model.add(Dropout(0.3))\n",
        "\n",
        "model.add(Conv2D(512,(2,2),activation='relu'))\n",
        "model.add(MaxPooling2D(pool_size=(2, 2)))\n",
        "# model.add(BatchNormalization())\n",
        "\n",
        "model.add(Dropout(0.3))\n",
        "\n",
        "model.add(Conv2D(512,(2,2),activation='relu'))\n",
        "model.add(MaxPooling2D(pool_size=(1, 1)))\n",
        "# model.add(BatchNormalization())\n",
        "\n",
        "model.add(Dropout(0.3))\n",
        "\n",
        "model.add(Conv2D(512,(2,2),activation='relu'))\n",
        "model.add(MaxPooling2D(pool_size=(2, 2)))\n",
        "# model.add(BatchNormalization())\n",
        "\n",
        "model.add(Dropout(0.4))\n",
        "\n",
        "\n",
        "model.add(Flatten())\n",
        "\n",
        "\n",
        "model.add(Dense(256,activation='relu'))\n",
        "model.add(Dropout(0.3))\n",
        "\n",
        "model.add(Dense(7,activation='softmax'))\n",
        "\n",
        "model.compile(optimizer='adam',loss='categorical_crossentropy',metrics=['accuracy',Recall()])\n",
        "model.summary()"
      ],
      "execution_count": 43,
      "outputs": [
        {
          "output_type": "stream",
          "text": [
            "Model: \"HAM\"\n",
            "_________________________________________________________________\n",
            "Layer (type)                 Output Shape              Param #   \n",
            "=================================================================\n",
            "conv2d_5 (Conv2D)            (None, 223, 223, 64)      832       \n",
            "_________________________________________________________________\n",
            "max_pooling2d_5 (MaxPooling2 (None, 111, 111, 64)      0         \n",
            "_________________________________________________________________\n",
            "conv2d_6 (Conv2D)            (None, 110, 110, 256)     65792     \n",
            "_________________________________________________________________\n",
            "max_pooling2d_6 (MaxPooling2 (None, 55, 55, 256)       0         \n",
            "_________________________________________________________________\n",
            "dropout_5 (Dropout)          (None, 55, 55, 256)       0         \n",
            "_________________________________________________________________\n",
            "conv2d_7 (Conv2D)            (None, 54, 54, 512)       524800    \n",
            "_________________________________________________________________\n",
            "max_pooling2d_7 (MaxPooling2 (None, 27, 27, 512)       0         \n",
            "_________________________________________________________________\n",
            "dropout_6 (Dropout)          (None, 27, 27, 512)       0         \n",
            "_________________________________________________________________\n",
            "conv2d_8 (Conv2D)            (None, 26, 26, 512)       1049088   \n",
            "_________________________________________________________________\n",
            "max_pooling2d_8 (MaxPooling2 (None, 26, 26, 512)       0         \n",
            "_________________________________________________________________\n",
            "dropout_7 (Dropout)          (None, 26, 26, 512)       0         \n",
            "_________________________________________________________________\n",
            "conv2d_9 (Conv2D)            (None, 25, 25, 512)       1049088   \n",
            "_________________________________________________________________\n",
            "max_pooling2d_9 (MaxPooling2 (None, 12, 12, 512)       0         \n",
            "_________________________________________________________________\n",
            "dropout_8 (Dropout)          (None, 12, 12, 512)       0         \n",
            "_________________________________________________________________\n",
            "flatten_1 (Flatten)          (None, 73728)             0         \n",
            "_________________________________________________________________\n",
            "dense_2 (Dense)              (None, 256)               18874624  \n",
            "_________________________________________________________________\n",
            "dropout_9 (Dropout)          (None, 256)               0         \n",
            "_________________________________________________________________\n",
            "dense_3 (Dense)              (None, 7)                 1799      \n",
            "=================================================================\n",
            "Total params: 21,566,023\n",
            "Trainable params: 21,566,023\n",
            "Non-trainable params: 0\n",
            "_________________________________________________________________\n"
          ],
          "name": "stdout"
        }
      ]
    },
    {
      "cell_type": "code",
      "metadata": {
        "id": "6I8WXFgqc1tH",
        "colab_type": "code",
        "colab": {}
      },
      "source": [
        "trainx=trainx/255"
      ],
      "execution_count": 0,
      "outputs": []
    },
    {
      "cell_type": "code",
      "metadata": {
        "id": "3cSsZNVcdHzh",
        "colab_type": "code",
        "colab": {}
      },
      "source": [
        "trainy=trainy/255"
      ],
      "execution_count": 0,
      "outputs": []
    },
    {
      "cell_type": "code",
      "metadata": {
        "id": "uYRg2tl8dyxf",
        "colab_type": "code",
        "colab": {}
      },
      "source": [
        "from tensorflow.keras.callbacks import EarlyStopping,ReduceLROnPlateau\n",
        "\n",
        "early=EarlyStopping(monitor='accuracy',patience=3,mode='auto')\n",
        "reduce_lr = ReduceLROnPlateau(monitor='accuracy', factor=0.5, patience=2, verbose=1,cooldown=0, mode='auto',min_delta=0.0001, min_lr=0)\n",
        "batch_size=90"
      ],
      "execution_count": 0,
      "outputs": []
    },
    {
      "cell_type": "code",
      "metadata": {
        "id": "OWUBo-j3wc8f",
        "colab_type": "code",
        "outputId": "dcf7a909-da61-4e2b-f0bf-77a03bc1317e",
        "colab": {
          "base_uri": "https://localhost:8080/",
          "height": 804
        }
      },
      "source": [
        "model.fit(trainx, testx,epochs=20,batch_size=batch_size,validation_data=(trainy, testy),callbacks=[early,reduce_lr])"
      ],
      "execution_count": 47,
      "outputs": [
        {
          "output_type": "stream",
          "text": [
            "Epoch 1/20\n",
            "108/108 [==============================] - 42s 389ms/step - loss: 1.2931 - accuracy: 0.6675 - recall_1: 0.5471 - val_loss: 1.0064 - val_accuracy: 0.6818 - val_recall_1: 0.4495 - lr: 0.0010\n",
            "Epoch 2/20\n",
            "108/108 [==============================] - 41s 375ms/step - loss: 0.9276 - accuracy: 0.6787 - recall_1: 0.5610 - val_loss: 1.0214 - val_accuracy: 0.6869 - val_recall_1: 0.4444 - lr: 0.0010\n",
            "Epoch 3/20\n",
            "108/108 [==============================] - 40s 375ms/step - loss: 0.8852 - accuracy: 0.6814 - recall_1: 0.5700 - val_loss: 0.9048 - val_accuracy: 0.7020 - val_recall_1: 0.4697 - lr: 0.0010\n",
            "Epoch 4/20\n",
            "108/108 [==============================] - 41s 375ms/step - loss: 0.8185 - accuracy: 0.7004 - recall_1: 0.5742 - val_loss: 0.7663 - val_accuracy: 0.7475 - val_recall_1: 0.6111 - lr: 0.0010\n",
            "Epoch 5/20\n",
            "108/108 [==============================] - 40s 375ms/step - loss: 0.7876 - accuracy: 0.7090 - recall_1: 0.5928 - val_loss: 0.7870 - val_accuracy: 0.7374 - val_recall_1: 0.5606 - lr: 0.0010\n",
            "Epoch 6/20\n",
            "108/108 [==============================] - 41s 376ms/step - loss: 0.7542 - accuracy: 0.7195 - recall_1: 0.6156 - val_loss: 0.7452 - val_accuracy: 0.7374 - val_recall_1: 0.6465 - lr: 0.0010\n",
            "Epoch 7/20\n",
            "108/108 [==============================] - 41s 375ms/step - loss: 0.7328 - accuracy: 0.7266 - recall_1: 0.6233 - val_loss: 0.7005 - val_accuracy: 0.7778 - val_recall_1: 0.6768 - lr: 0.0010\n",
            "Epoch 8/20\n",
            "108/108 [==============================] - 40s 375ms/step - loss: 0.7070 - accuracy: 0.7359 - recall_1: 0.6427 - val_loss: 0.6869 - val_accuracy: 0.7929 - val_recall_1: 0.6566 - lr: 0.0010\n",
            "Epoch 9/20\n",
            "108/108 [==============================] - 41s 375ms/step - loss: 0.6824 - accuracy: 0.7448 - recall_1: 0.6548 - val_loss: 0.6461 - val_accuracy: 0.7879 - val_recall_1: 0.6667 - lr: 0.0010\n",
            "Epoch 10/20\n",
            "108/108 [==============================] - 41s 375ms/step - loss: 0.6528 - accuracy: 0.7530 - recall_1: 0.6764 - val_loss: 0.7128 - val_accuracy: 0.7980 - val_recall_1: 0.6566 - lr: 0.0010\n",
            "Epoch 11/20\n",
            "108/108 [==============================] - 41s 376ms/step - loss: 0.6220 - accuracy: 0.7660 - recall_1: 0.6929 - val_loss: 0.6934 - val_accuracy: 0.7071 - val_recall_1: 0.6111 - lr: 0.0010\n",
            "Epoch 12/20\n",
            "108/108 [==============================] - 40s 375ms/step - loss: 0.6069 - accuracy: 0.7683 - recall_1: 0.6983 - val_loss: 0.6118 - val_accuracy: 0.7778 - val_recall_1: 0.6919 - lr: 0.0010\n",
            "Epoch 13/20\n",
            "108/108 [==============================] - 40s 375ms/step - loss: 0.5784 - accuracy: 0.7855 - recall_1: 0.7158 - val_loss: 0.6650 - val_accuracy: 0.7475 - val_recall_1: 0.6970 - lr: 0.0010\n",
            "Epoch 14/20\n",
            "108/108 [==============================] - 40s 375ms/step - loss: 0.5614 - accuracy: 0.7837 - recall_1: 0.7243 - val_loss: 0.6445 - val_accuracy: 0.7374 - val_recall_1: 0.6970 - lr: 0.0010\n",
            "Epoch 15/20\n",
            "108/108 [==============================] - 40s 374ms/step - loss: 0.5358 - accuracy: 0.7987 - recall_1: 0.7411 - val_loss: 0.6123 - val_accuracy: 0.7828 - val_recall_1: 0.7071 - lr: 0.0010\n",
            "Epoch 16/20\n",
            "108/108 [==============================] - 40s 375ms/step - loss: 0.4960 - accuracy: 0.8156 - recall_1: 0.7648 - val_loss: 0.6617 - val_accuracy: 0.7626 - val_recall_1: 0.7222 - lr: 0.0010\n",
            "Epoch 17/20\n",
            "108/108 [==============================] - 40s 375ms/step - loss: 0.4698 - accuracy: 0.8195 - recall_1: 0.7732 - val_loss: 0.7337 - val_accuracy: 0.7778 - val_recall_1: 0.7172 - lr: 0.0010\n",
            "Epoch 18/20\n",
            "108/108 [==============================] - 40s 374ms/step - loss: 0.4446 - accuracy: 0.8334 - recall_1: 0.7911 - val_loss: 0.7771 - val_accuracy: 0.7273 - val_recall_1: 0.6919 - lr: 0.0010\n",
            "Epoch 19/20\n",
            "108/108 [==============================] - 41s 375ms/step - loss: 0.4436 - accuracy: 0.8289 - recall_1: 0.7885 - val_loss: 0.8051 - val_accuracy: 0.7727 - val_recall_1: 0.7323 - lr: 0.0010\n",
            "Epoch 20/20\n",
            "108/108 [==============================] - 41s 375ms/step - loss: 0.4138 - accuracy: 0.8444 - recall_1: 0.8076 - val_loss: 0.6931 - val_accuracy: 0.7879 - val_recall_1: 0.7273 - lr: 0.0010\n"
          ],
          "name": "stdout"
        },
        {
          "output_type": "execute_result",
          "data": {
            "text/plain": [
              "<tensorflow.python.keras.callbacks.History at 0x7f4aa0e1d860>"
            ]
          },
          "metadata": {
            "tags": []
          },
          "execution_count": 47
        }
      ]
    },
    {
      "cell_type": "code",
      "metadata": {
        "id": "PhYcfDh8CGvg",
        "colab_type": "code",
        "colab": {
          "base_uri": "https://localhost:8080/",
          "height": 285
        },
        "outputId": "c60e5227-2b5e-4503-cc18-f8f714ca6478"
      },
      "source": [
        "loss=pd.DataFrame(model.history.history)\n",
        "loss=loss[['accuracy','val_accuracy']]\n",
        "loss.plot()"
      ],
      "execution_count": 48,
      "outputs": [
        {
          "output_type": "execute_result",
          "data": {
            "text/plain": [
              "<matplotlib.axes._subplots.AxesSubplot at 0x7f4a2472bf98>"
            ]
          },
          "metadata": {
            "tags": []
          },
          "execution_count": 48
        },
        {
          "output_type": "display_data",
          "data": {
            "image/png": "[encoded data removed]",
            "text/plain": [
              "<Figure size 432x288 with 1 Axes>"
            ]
          },
          "metadata": {
            "tags": [],
            "needs_background": "light"
          }
        }
      ]
    },
    {
      "cell_type": "code",
      "metadata": {
        "id": "1STWqllGVaZc",
        "colab_type": "code",
        "colab": {}
      },
      "source": [
        "# model.save('drive/My Drive/model/model.h5')"
      ],
      "execution_count": 0,
      "outputs": []
    }
  ]
}