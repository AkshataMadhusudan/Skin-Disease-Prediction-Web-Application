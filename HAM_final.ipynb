{
  "nbformat": 4,
  "nbformat_minor": 0,
  "metadata": {
    "colab": {
      "name": "HAM final.ipynb",
      "provenance": [],
      "collapsed_sections": [],
      "machine_shape": "hm",
      "mount_file_id": "19M6knfxjcMYElfexc_lWPVsdC9k9Orql",
      "authorship_tag": "ABX9TyNDFi+z4pUEd05t+UqsQyhR",
      "include_colab_link": true
    },
    "kernelspec": {
      "name": "python3",
      "display_name": "Python 3"
    },
    "accelerator": "GPU"
  },
  "cells": [
    {
      "cell_type": "markdown",
      "metadata": {
        "id": "view-in-github",
        "colab_type": "text"
      },
      "source": [
        "<a href=\"https://colab.research.google.com/github/mittshah2/Skin-Disease-Prediction-Web-Application/blob/master/HAM_final.ipynb\" target=\"_parent\"><img src=\"https://colab.research.google.com/assets/colab-badge.svg\" alt=\"Open In Colab\"/></a>"
      ]
    },
    {
      "cell_type": "code",
      "metadata": {
        "id": "FXdkx-ZtOIUL",
        "colab_type": "code",
        "colab": {}
      },
      "source": [
        "import os\n",
        "import pandas as pd\n",
        "import numpy as np\n",
        "import matplotlib.pyplot as p\n",
        "import PIL as pil\n",
        "from tensorflow.keras.preprocessing.image import ImageDataGenerator\n",
        "from tensorflow.keras.utils import to_categorical,normalize\n",
        "import cv2\n",
        "from tqdm import tqdm"
      ],
      "execution_count": 0,
      "outputs": []
    },
    {
      "cell_type": "code",
      "metadata": {
        "id": "-1sJpAHfOgMI",
        "colab_type": "code",
        "colab": {}
      },
      "source": [
        "# !unzip -uq 'drive/My Drive/Actinic keratoses.zip' -d '/'\n",
        "# !unzip -uq 'drive/My Drive/Basal cell carcinoma.zip' -d '/'\n",
        "# !unzip -uq 'drive/My Drive/Benign keratosis-like lesions.zip' -d '/'\n",
        "# !unzip -uq 'drive/My Drive/Melanocytic nevi.zip' -d '/'\n",
        "# !unzip -uq 'drive/My Drive/Dermatofibroma.zip' -d '/'\n",
        "# !unzip -uq 'drive/My Drive/Melanoma.zip' -d '/'\n",
        "# !unzip -uq 'drive/My Drive/Vascular lesions.zip' -d '/'"
      ],
      "execution_count": 0,
      "outputs": []
    },
    {
      "cell_type": "code",
      "metadata": {
        "id": "EmbAmYamO0NF",
        "colab_type": "code",
        "colab": {}
      },
      "source": [
        "datagen=ImageDataGenerator(rotation_range=20, # rotate the image 20 degrees\n",
        "                               width_shift_range=0.10, # Shift the pic width by a max of 5%\n",
        "                               height_shift_range=0.10, # Shift the pic height by a max of 5%\n",
        "                               rescale=1/255, # Rescale the image by normalzing it.\n",
        "                               shear_range=0.1, # Shear means cutting away part of the image (max 10%)\n",
        "                               zoom_range=0.1, # Zoom in by 10% max\n",
        "                               horizontal_flip=True,\n",
        "                               vertical_flip=True,\n",
        "                               fill_mode='nearest')"
      ],
      "execution_count": 0,
      "outputs": []
    },
    {
      "cell_type": "code",
      "metadata": {
        "id": "EbdsQlhMO4NT",
        "colab_type": "code",
        "colab": {}
      },
      "source": [
        "input_shape=(224,224,3)"
      ],
      "execution_count": 0,
      "outputs": []
    },
    {
      "cell_type": "code",
      "metadata": {
        "id": "KmHRj24tO56P",
        "colab_type": "code",
        "colab": {}
      },
      "source": [
        "df=pd.read_csv('drive/My Drive/HAM/HAM10000_metadata.csv')\n",
        "key={\n",
        "    'akiec':0,\n",
        "     'bcc':1,\n",
        "     'bkl':2,\n",
        "     'df':3,\n",
        "     'nv':4,\n",
        "     'mel':5,\n",
        "     'vasc':6\n",
        "}\n",
        "df['label']=df['dx'].map(key)"
      ],
      "execution_count": 0,
      "outputs": []
    },
    {
      "cell_type": "code",
      "metadata": {
        "id": "jjnphAwYO6p-",
        "colab_type": "code",
        "colab": {}
      },
      "source": [
        "# data=[]\n",
        "# for i in tqdm(os.listdir('/Actinic keratoses')):\n",
        "#   path='/Actinic keratoses/'+str(i)\n",
        "#   img=cv2.imread(path)  \n",
        "#   img=cv2.resize(img,input_shape[:2])\n",
        "#   data.append(img)\n",
        "# x=np.asarray(data)"
      ],
      "execution_count": 0,
      "outputs": []
    },
    {
      "cell_type": "code",
      "metadata": {
        "id": "kyoOPh0NPRSl",
        "colab_type": "code",
        "colab": {}
      },
      "source": [
        "# data=[]\n",
        "# for i in tqdm(os.listdir('/Basal cell carcinoma')):\n",
        "#   path='/Basal cell carcinoma/'+str(i)\n",
        "#   img=cv2.imread(path)\n",
        "#   img=cv2.resize(img,input_shape[:2])\n",
        "#   data.append(img)\n",
        "# x=np.append(x,data,axis=0)"
      ],
      "execution_count": 0,
      "outputs": []
    },
    {
      "cell_type": "code",
      "metadata": {
        "id": "MQlFPL9yQgHu",
        "colab_type": "code",
        "colab": {}
      },
      "source": [
        "# data=[]\n",
        "# for i in tqdm(os.listdir('/Benign keratosis-like lesions')):\n",
        "#   path='/Benign keratosis-like lesions/'+str(i)\n",
        "#   img=cv2.imread(path)\n",
        "#   img=cv2.resize(img,input_shape[:2])\n",
        "#   data.append(img)\n",
        "# x=np.append(x,data,axis=0)"
      ],
      "execution_count": 0,
      "outputs": []
    },
    {
      "cell_type": "code",
      "metadata": {
        "id": "3R0ivPSTQjAy",
        "colab_type": "code",
        "colab": {}
      },
      "source": [
        "# data=[]\n",
        "# for i in tqdm(os.listdir('/Dermatofibroma')):\n",
        "#   path='/Dermatofibroma/'+str(i)\n",
        "#   img=cv2.imread(path)\n",
        "#   img=cv2.resize(img,input_shape[:2])\n",
        "#   data.append(img)\n",
        "# x=np.append(x,data,axis=0)"
      ],
      "execution_count": 0,
      "outputs": []
    },
    {
      "cell_type": "code",
      "metadata": {
        "id": "Nft7m58uQjmf",
        "colab_type": "code",
        "colab": {}
      },
      "source": [
        "# data=[]\n",
        "# for i in tqdm(os.listdir('/Melanocytic nevi')):\n",
        "#   path='/Melanocytic nevi/'+str(i)\n",
        "#   img=cv2.imread(path)\n",
        "#   img=cv2.resize(img,input_shape[:2])\n",
        "#   data.append(img)\n",
        "# x=np.append(x,data,axis=0)"
      ],
      "execution_count": 0,
      "outputs": []
    },
    {
      "cell_type": "code",
      "metadata": {
        "id": "d63stFJ9Qjpm",
        "colab_type": "code",
        "colab": {}
      },
      "source": [
        "# data=[]\n",
        "# for i in tqdm(os.listdir('/Melanoma')):\n",
        "#   path='/Melanoma/'+str(i)\n",
        "#   img=cv2.imread(path)\n",
        "#   img=cv2.resize(img,input_shape[:2])\n",
        "#   data.append(img)\n",
        "# x=np.append(x,data,axis=0)"
      ],
      "execution_count": 0,
      "outputs": []
    },
    {
      "cell_type": "code",
      "metadata": {
        "id": "WCr72Ld8Qjtw",
        "colab_type": "code",
        "colab": {}
      },
      "source": [
        "# data=[]\n",
        "# for i in tqdm(os.listdir('/Vascular lesions')):\n",
        "#   path='/Vascular lesions/'+str(i)\n",
        "#   img=cv2.imread(path)\n",
        "#   img=cv2.resize(img,input_shape[:2])\n",
        "#   data.append(img)\n",
        "# x=np.append(x,data,axis=0)"
      ],
      "execution_count": 0,
      "outputs": []
    },
    {
      "cell_type": "code",
      "metadata": {
        "id": "F7jDvEOuQoQd",
        "colab_type": "code",
        "colab": {}
      },
      "source": [
        "# x.shape"
      ],
      "execution_count": 0,
      "outputs": []
    },
    {
      "cell_type": "code",
      "metadata": {
        "id": "M-Yg7ZmjQqdd",
        "colab_type": "code",
        "colab": {}
      },
      "source": [
        "# np.save('drive/My Drive/HAM/data of ham(224x224).npy',x)"
      ],
      "execution_count": 0,
      "outputs": []
    },
    {
      "cell_type": "code",
      "metadata": {
        "id": "pUhiOMRXW3Nu",
        "colab_type": "code",
        "colab": {}
      },
      "source": [
        "x=np.load('drive/My Drive/HAM/data of ham(224x224).npy')"
      ],
      "execution_count": 0,
      "outputs": []
    },
    {
      "cell_type": "code",
      "metadata": {
        "id": "ddqdHcbWQsdG",
        "colab_type": "code",
        "outputId": "ee86e08c-495e-4f38-d0dd-34b764d7f711",
        "colab": {
          "base_uri": "https://localhost:8080/",
          "height": 36
        }
      },
      "source": [
        "y=[]\n",
        "for i in range(130):\n",
        "  y.append(0)\n",
        "for i in range(514):\n",
        "  y.append(1)\n",
        "for i in range(1176):\n",
        "  y.append(2)\n",
        "for i in range(115):\n",
        "  y.append(3)\n",
        "for i in range(6705):\n",
        "  y.append(4)\n",
        "for i in range(1113):\n",
        "  y.append(5)\n",
        "for i in range(142):\n",
        "  y.append(6)\n",
        "len(y)"
      ],
      "execution_count": 17,
      "outputs": [
        {
          "output_type": "execute_result",
          "data": {
            "text/plain": [
              "9895"
            ]
          },
          "metadata": {
            "tags": []
          },
          "execution_count": 17
        }
      ]
    },
    {
      "cell_type": "code",
      "metadata": {
        "id": "Tb9CPe_lQuOo",
        "colab_type": "code",
        "outputId": "4954f856-a104-47b2-b227-55c7d3e4285f",
        "colab": {
          "base_uri": "https://localhost:8080/",
          "height": 36
        }
      },
      "source": [
        "y=np.asarray(y)\n",
        "y.shape"
      ],
      "execution_count": 18,
      "outputs": [
        {
          "output_type": "execute_result",
          "data": {
            "text/plain": [
              "(9895,)"
            ]
          },
          "metadata": {
            "tags": []
          },
          "execution_count": 18
        }
      ]
    },
    {
      "cell_type": "code",
      "metadata": {
        "id": "2EaGKIf6QwMG",
        "colab_type": "code",
        "colab": {}
      },
      "source": [
        "y=to_categorical(y)"
      ],
      "execution_count": 0,
      "outputs": []
    },
    {
      "cell_type": "code",
      "metadata": {
        "id": "9OYd7gQXbtk9",
        "colab_type": "code",
        "colab": {}
      },
      "source": [
        "from sklearn.model_selection import train_test_split\n",
        "\n",
        "trainx,trainy,testx,testy = train_test_split(x,y,test_size=0.02,random_state=42)"
      ],
      "execution_count": 0,
      "outputs": []
    },
    {
      "cell_type": "code",
      "metadata": {
        "id": "Iqg6bpORcFwU",
        "colab_type": "code",
        "colab": {}
      },
      "source": [
        "datagen.fit(trainx)"
      ],
      "execution_count": 0,
      "outputs": []
    },
    {
      "cell_type": "code",
      "metadata": {
        "id": "Y-vvoj1jkOqg",
        "colab_type": "code",
        "outputId": "db46ef59-9ca0-4b15-f9d8-5de31b76cf9d",
        "colab": {
          "base_uri": "https://localhost:8080/",
          "height": 915
        }
      },
      "source": [
        "from tensorflow.keras.layers import Flatten,Dense,Dropout,BatchNormalization,Conv2D,MaxPooling2D\n",
        "from tensorflow.keras.models import Sequential\n",
        "from tensorflow.keras.metrics import Recall\n",
        "from tensorflow.keras.optimizers import RMSprop\n",
        "\n",
        "model=Sequential(name='HAM')\n",
        "\n",
        "model.add(Conv2D(64,(2,2),input_shape=input_shape,activation='relu'))\n",
        "model.add(MaxPooling2D(pool_size=(2, 2)))\n",
        "# model.add(BatchNormalization())\n",
        "\n",
        "model.add(Conv2D(256,(2,2),activation='relu'))\n",
        "model.add(MaxPooling2D(pool_size=(2, 2)))\n",
        "# model.add(BatchNormalization())\n",
        "\n",
        "model.add(Dropout(0.3))\n",
        "\n",
        "model.add(Conv2D(512,(2,2),activation='relu'))\n",
        "model.add(MaxPooling2D(pool_size=(2, 2)))\n",
        "# model.add(BatchNormalization())\n",
        "\n",
        "model.add(Dropout(0.3))\n",
        "\n",
        "model.add(Conv2D(512,(2,2),activation='relu'))\n",
        "model.add(MaxPooling2D(pool_size=(1, 1)))\n",
        "# model.add(BatchNormalization())\n",
        "\n",
        "model.add(Dropout(0.3))\n",
        "\n",
        "model.add(Conv2D(512,(2,2),activation='relu'))\n",
        "model.add(MaxPooling2D(pool_size=(2, 2)))\n",
        "# model.add(BatchNormalization())\n",
        "\n",
        "model.add(Dropout(0.4))\n",
        "\n",
        "\n",
        "model.add(Flatten())\n",
        "\n",
        "\n",
        "model.add(Dense(1024,activation='relu'))\n",
        "model.add(Dropout(0.4))\n",
        "\n",
        "model.add(Dense(1024,activation='relu'))\n",
        "model.add(Dropout(0.4))\n",
        "\n",
        "model.add(Dense(7,activation='softmax'))\n",
        "\n",
        "model.compile(optimizer='adam',loss='categorical_crossentropy',metrics=['accuracy',Recall()])\n",
        "model.summary()"
      ],
      "execution_count": 22,
      "outputs": [
        {
          "output_type": "stream",
          "text": [
            "Model: \"HAM\"\n",
            "_________________________________________________________________\n",
            "Layer (type)                 Output Shape              Param #   \n",
            "=================================================================\n",
            "conv2d (Conv2D)              (None, 223, 223, 64)      832       \n",
            "_________________________________________________________________\n",
            "max_pooling2d (MaxPooling2D) (None, 111, 111, 64)      0         \n",
            "_________________________________________________________________\n",
            "conv2d_1 (Conv2D)            (None, 110, 110, 256)     65792     \n",
            "_________________________________________________________________\n",
            "max_pooling2d_1 (MaxPooling2 (None, 55, 55, 256)       0         \n",
            "_________________________________________________________________\n",
            "dropout (Dropout)            (None, 55, 55, 256)       0         \n",
            "_________________________________________________________________\n",
            "conv2d_2 (Conv2D)            (None, 54, 54, 512)       524800    \n",
            "_________________________________________________________________\n",
            "max_pooling2d_2 (MaxPooling2 (None, 27, 27, 512)       0         \n",
            "_________________________________________________________________\n",
            "dropout_1 (Dropout)          (None, 27, 27, 512)       0         \n",
            "_________________________________________________________________\n",
            "conv2d_3 (Conv2D)            (None, 26, 26, 512)       1049088   \n",
            "_________________________________________________________________\n",
            "max_pooling2d_3 (MaxPooling2 (None, 26, 26, 512)       0         \n",
            "_________________________________________________________________\n",
            "dropout_2 (Dropout)          (None, 26, 26, 512)       0         \n",
            "_________________________________________________________________\n",
            "conv2d_4 (Conv2D)            (None, 25, 25, 512)       1049088   \n",
            "_________________________________________________________________\n",
            "max_pooling2d_4 (MaxPooling2 (None, 12, 12, 512)       0         \n",
            "_________________________________________________________________\n",
            "dropout_3 (Dropout)          (None, 12, 12, 512)       0         \n",
            "_________________________________________________________________\n",
            "flatten (Flatten)            (None, 73728)             0         \n",
            "_________________________________________________________________\n",
            "dense (Dense)                (None, 1024)              75498496  \n",
            "_________________________________________________________________\n",
            "dropout_4 (Dropout)          (None, 1024)              0         \n",
            "_________________________________________________________________\n",
            "dense_1 (Dense)              (None, 1024)              1049600   \n",
            "_________________________________________________________________\n",
            "dropout_5 (Dropout)          (None, 1024)              0         \n",
            "_________________________________________________________________\n",
            "dense_2 (Dense)              (None, 7)                 7175      \n",
            "=================================================================\n",
            "Total params: 79,244,871\n",
            "Trainable params: 79,244,871\n",
            "Non-trainable params: 0\n",
            "_________________________________________________________________\n"
          ],
          "name": "stdout"
        }
      ]
    },
    {
      "cell_type": "code",
      "metadata": {
        "id": "6I8WXFgqc1tH",
        "colab_type": "code",
        "colab": {}
      },
      "source": [
        "trainx=trainx/255"
      ],
      "execution_count": 0,
      "outputs": []
    },
    {
      "cell_type": "code",
      "metadata": {
        "id": "3cSsZNVcdHzh",
        "colab_type": "code",
        "colab": {}
      },
      "source": [
        "trainy=trainy/255"
      ],
      "execution_count": 0,
      "outputs": []
    },
    {
      "cell_type": "code",
      "metadata": {
        "id": "uYRg2tl8dyxf",
        "colab_type": "code",
        "colab": {}
      },
      "source": [
        "from tensorflow.keras.callbacks import EarlyStopping,ReduceLROnPlateau\n",
        "\n",
        "early=EarlyStopping(monitor='accuracy',patience=3,mode='auto')\n",
        "reduce_lr = ReduceLROnPlateau(monitor='accuracy', factor=0.5, patience=2, verbose=1,cooldown=0, mode='auto',min_delta=0.0001, min_lr=0)\n",
        "batch_size=90"
      ],
      "execution_count": 0,
      "outputs": []
    },
    {
      "cell_type": "code",
      "metadata": {
        "id": "OWUBo-j3wc8f",
        "colab_type": "code",
        "outputId": "afb13d7c-8ae8-44eb-b644-58b23625fd96",
        "colab": {
          "base_uri": "https://localhost:8080/",
          "height": 804
        }
      },
      "source": [
        "model.fit(trainx, testx,epochs=20,batch_size=batch_size,validation_data=(trainy, testy),callbacks=[early,reduce_lr])"
      ],
      "execution_count": 26,
      "outputs": [
        {
          "output_type": "stream",
          "text": [
            "Epoch 1/20\n",
            "108/108 [==============================] - 43s 398ms/step - loss: 1.2023 - accuracy: 0.6602 - recall: 0.5332 - val_loss: 1.0503 - val_accuracy: 0.6818 - val_recall: 0.4949 - lr: 0.0010\n",
            "Epoch 2/20\n",
            "108/108 [==============================] - 41s 383ms/step - loss: 0.9220 - accuracy: 0.6807 - recall: 0.5671 - val_loss: 0.9919 - val_accuracy: 0.6818 - val_recall: 0.5303 - lr: 0.0010\n",
            "Epoch 3/20\n",
            "108/108 [==============================] - 41s 383ms/step - loss: 0.8842 - accuracy: 0.6847 - recall: 0.5790 - val_loss: 0.9995 - val_accuracy: 0.7222 - val_recall: 0.5455 - lr: 0.0010\n",
            "Epoch 4/20\n",
            "108/108 [==============================] - 41s 383ms/step - loss: 0.8585 - accuracy: 0.6934 - recall: 0.5864 - val_loss: 0.8506 - val_accuracy: 0.7172 - val_recall: 0.4697 - lr: 0.0010\n",
            "Epoch 5/20\n",
            "108/108 [==============================] - 41s 383ms/step - loss: 0.8300 - accuracy: 0.6968 - recall: 0.5846 - val_loss: 0.8586 - val_accuracy: 0.7273 - val_recall: 0.5606 - lr: 0.0010\n",
            "Epoch 6/20\n",
            "108/108 [==============================] - 41s 383ms/step - loss: 0.7913 - accuracy: 0.7026 - recall: 0.5922 - val_loss: 0.7506 - val_accuracy: 0.7475 - val_recall: 0.6313 - lr: 0.0010\n",
            "Epoch 7/20\n",
            "108/108 [==============================] - 41s 383ms/step - loss: 0.7778 - accuracy: 0.7155 - recall: 0.6096 - val_loss: 0.7953 - val_accuracy: 0.7727 - val_recall: 0.5657 - lr: 0.0010\n",
            "Epoch 8/20\n",
            "108/108 [==============================] - 41s 383ms/step - loss: 0.7428 - accuracy: 0.7181 - recall: 0.6219 - val_loss: 0.7039 - val_accuracy: 0.7576 - val_recall: 0.6414 - lr: 0.0010\n",
            "Epoch 9/20\n",
            "108/108 [==============================] - 41s 383ms/step - loss: 0.7273 - accuracy: 0.7292 - recall: 0.6343 - val_loss: 0.6844 - val_accuracy: 0.7626 - val_recall: 0.7020 - lr: 0.0010\n",
            "Epoch 10/20\n",
            "108/108 [==============================] - 41s 383ms/step - loss: 0.6977 - accuracy: 0.7378 - recall: 0.6596 - val_loss: 0.6690 - val_accuracy: 0.7727 - val_recall: 0.6970 - lr: 0.0010\n",
            "Epoch 11/20\n",
            "108/108 [==============================] - 41s 382ms/step - loss: 0.6829 - accuracy: 0.7450 - recall: 0.6637 - val_loss: 0.6892 - val_accuracy: 0.7677 - val_recall: 0.7071 - lr: 0.0010\n",
            "Epoch 12/20\n",
            "108/108 [==============================] - 41s 383ms/step - loss: 0.6701 - accuracy: 0.7512 - recall: 0.6748 - val_loss: 0.6295 - val_accuracy: 0.7929 - val_recall: 0.7071 - lr: 0.0010\n",
            "Epoch 13/20\n",
            "108/108 [==============================] - 41s 382ms/step - loss: 0.6524 - accuracy: 0.7578 - recall: 0.6837 - val_loss: 0.6492 - val_accuracy: 0.7778 - val_recall: 0.7222 - lr: 0.0010\n",
            "Epoch 14/20\n",
            "108/108 [==============================] - 41s 382ms/step - loss: 0.6058 - accuracy: 0.7722 - recall: 0.7118 - val_loss: 0.6564 - val_accuracy: 0.7677 - val_recall: 0.6970 - lr: 0.0010\n",
            "Epoch 15/20\n",
            "108/108 [==============================] - 41s 383ms/step - loss: 0.5874 - accuracy: 0.7774 - recall: 0.7181 - val_loss: 0.6381 - val_accuracy: 0.7727 - val_recall: 0.6717 - lr: 0.0010\n",
            "Epoch 16/20\n",
            "108/108 [==============================] - 41s 383ms/step - loss: 0.5575 - accuracy: 0.7918 - recall: 0.7349 - val_loss: 0.6683 - val_accuracy: 0.7828 - val_recall: 0.6869 - lr: 0.0010\n",
            "Epoch 17/20\n",
            "108/108 [==============================] - 41s 383ms/step - loss: 0.5414 - accuracy: 0.7984 - recall: 0.7452 - val_loss: 0.6315 - val_accuracy: 0.7727 - val_recall: 0.7222 - lr: 0.0010\n",
            "Epoch 18/20\n",
            "108/108 [==============================] - 41s 382ms/step - loss: 0.5125 - accuracy: 0.8065 - recall: 0.7644 - val_loss: 0.6258 - val_accuracy: 0.7879 - val_recall: 0.7323 - lr: 0.0010\n",
            "Epoch 19/20\n",
            "108/108 [==============================] - 41s 383ms/step - loss: 0.4769 - accuracy: 0.8215 - recall: 0.7819 - val_loss: 0.6442 - val_accuracy: 0.7677 - val_recall: 0.7273 - lr: 0.0010\n",
            "Epoch 20/20\n",
            "108/108 [==============================] - 41s 382ms/step - loss: 0.4760 - accuracy: 0.8241 - recall: 0.7862 - val_loss: 0.5956 - val_accuracy: 0.7677 - val_recall: 0.7323 - lr: 0.0010\n"
          ],
          "name": "stdout"
        },
        {
          "output_type": "execute_result",
          "data": {
            "text/plain": [
              "<tensorflow.python.keras.callbacks.History at 0x7f19a00b4208>"
            ]
          },
          "metadata": {
            "tags": []
          },
          "execution_count": 26
        }
      ]
    },
    {
      "cell_type": "code",
      "metadata": {
        "id": "PhYcfDh8CGvg",
        "colab_type": "code",
        "colab": {
          "base_uri": "https://localhost:8080/",
          "height": 284
        },
        "outputId": "8e82e76e-8293-4a79-e7ba-f9bdd81065da"
      },
      "source": [
        "loss=pd.DataFrame(model.history.history)\n",
        "loss=loss[['accuracy','val_accuracy']]\n",
        "loss.plot()"
      ],
      "execution_count": 27,
      "outputs": [
        {
          "output_type": "execute_result",
          "data": {
            "text/plain": [
              "<matplotlib.axes._subplots.AxesSubplot at 0x7f19385c35f8>"
            ]
          },
          "metadata": {
            "tags": []
          },
          "execution_count": 27
        },
        {
          "output_type": "display_data",
          "data": {
            "image/png": "[encoded data removed]",
            "text/plain": [
              "<Figure size 432x288 with 1 Axes>"
            ]
          },
          "metadata": {
            "tags": [],
            "needs_background": "light"
          }
        }
      ]
    },
    {
      "cell_type": "code",
      "metadata": {
        "id": "1STWqllGVaZc",
        "colab_type": "code",
        "colab": {}
      },
      "source": [
        "# model.save('drive/My Drive/model/model.h5')"
      ],
      "execution_count": 0,
      "outputs": []
    }
  ]
}